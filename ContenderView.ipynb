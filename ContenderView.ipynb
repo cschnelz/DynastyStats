{
 "cells": [
  {
   "cell_type": "code",
   "execution_count": 8,
   "metadata": {
    "id": "sl12kwLEhFpt"
   },
   "outputs": [],
   "source": [
    "import matplotlib.pyplot as plt\n",
    "import pandas as pd\n",
    "import numpy as np\n",
    "import statistics\n",
    "from enum import Enum\n",
    "\n",
    "import plotly.express as px\n",
    "import plotly.graph_objects as go\n",
    "\n",
    "import ipynb\n",
    "from ipynb.fs.full.API import Team, POSITIONS, LeagueStats\n",
    "from ipynb.fs.full.Requests import request_players, request_rosters, request_projections, request_ktc, request_fantasy_calc, get_players, get_rosters, get_projections, get_ktc_values, get_fantasy_calc_values\n",
    "\n",
    "%run Requests.ipynb\n",
    "%run API.ipynb"
   ]
  },
  {
   "cell_type": "code",
   "execution_count": 3,
   "metadata": {
    "id": "-Jaozt8BVjyu"
   },
   "outputs": [],
   "source": [
    "suffixes = [' Jr.',' II',' III', ' Sr.']"
   ]
  },
  {
   "cell_type": "code",
   "execution_count": 9,
   "metadata": {
    "colab": {
     "base_uri": "https://localhost:8080/"
    },
    "id": "toJ6Xtyr7apm",
    "outputId": "06452cfa-888b-4593-8c5a-61f2c1bea8e9"
   },
   "outputs": [
    {
     "name": "stderr",
     "output_type": "stream",
     "text": [
      "Linking to keeptradecut.com's SF rankings...: 100%|██████████| 10/10 [00:06<00:00,  1.63page/s]\n"
     ]
    }
   ],
   "source": [
    "players_response = request_players()\n",
    "rosters_response = request_rosters()\n",
    "projections_response = request_projections()\n",
    "ktc_response = request_ktc()\n",
    "fantasy_calc_response = request_fantasy_calc()"
   ]
  },
  {
   "cell_type": "code",
   "execution_count": 10,
   "metadata": {
    "id": "eEDM92Ga0YAH"
   },
   "outputs": [],
   "source": [
    "players = get_players(players_response)\n",
    "rosters = get_rosters(rosters_response)\n",
    "projections = get_projections(projections_response)\n",
    "ktc = get_ktc_values(ktc_response)\n",
    "fantasy_calc = get_fantasy_calc_values(fantasy_calc_response)"
   ]
  },
  {
   "cell_type": "markdown",
   "metadata": {
    "id": "rd10azAuK4yO"
   },
   "source": [
    "## BUILD LEAGUE"
   ]
  },
  {
   "cell_type": "code",
   "execution_count": 11,
   "metadata": {
    "id": "G_f-sdxV6f0j"
   },
   "outputs": [],
   "source": [
    "def build_league():\n",
    "  league = []\n",
    "  for index,roster in rosters.iterrows():\n",
    "    team = Team(roster['owner'])\n",
    "    # dataframe with column of player_id, merge to players for name\n",
    "    team.roster = pd.DataFrame({'player_id': roster['players']})\n",
    "    team.roster = team.roster.merge(players, how='left')\n",
    "    # merge to projections and value tables on name\n",
    "    team.roster = team.roster.merge(projections, how='left')\n",
    "    team.roster = team.roster.merge(ktc, how='left')\n",
    "    team.roster = team.roster.merge(fantasy_calc, how='left')\n",
    "    # sort, calculate ppg, copy into roster_starters table\n",
    "    team.roster = team.roster.sort_values(by=['FPTS'],ascending=False)\n",
    "    team.roster['FPPG'] = round(team.roster['FPTS'] / 17.0, 2)\n",
    "    team.roster.drop(columns=['player_id'],inplace=True)\n",
    "    team.roster = team.roster.reset_index(drop=True)\n",
    "    team.roster_starters = team.roster.copy()\n",
    "    team.roster_starters['Starter'] = False\n",
    "\n",
    "    league.append(team)\n",
    "  return league"
   ]
  },
  {
   "cell_type": "code",
   "execution_count": 12,
   "metadata": {
    "id": "r0Tmj_FIHdEV"
   },
   "outputs": [],
   "source": [
    "def set_league_starters(league: [Team]):\n",
    "  for team in league:\n",
    "    for position in POSITIONS:\n",
    "        # find indexes of players in position\n",
    "        position_indices = team.get_position_backups(position).index\n",
    "        # take n top projected players where n is the positions starter count definition\n",
    "        starter_position_indices = position_indices[0: position.starter_count()]\n",
    "        # mark those players as starters\n",
    "        team.starting_roster[position.name] = team.roster_starters.loc[starter_position_indices].copy()\n",
    "        team.roster_starters.loc[starter_position_indices,'Starter'] = True"
   ]
  },
  {
   "cell_type": "code",
   "execution_count": 13,
   "metadata": {},
   "outputs": [],
   "source": [
    "league = build_league()\n",
    "set_league_starters(league)"
   ]
  },
  {
   "cell_type": "markdown",
   "metadata": {
    "id": "rd10azAuK4yO"
   },
   "source": [
    "## Create median/average data"
   ]
  },
  {
   "cell_type": "code",
   "execution_count": 14,
   "metadata": {
    "id": "qw0dcYeIWtkD"
   },
   "outputs": [],
   "source": [
    "\n",
    "\n",
    "league_wide_statistics = {\n",
    "    'average_starter_ppg': 0,\n",
    "    'median_starter_ppg': 0,\n",
    "    'average_starters': {},\n",
    "    'median_starters': {},\n",
    "    'average_best_bench': {},\n",
    "    'median_best_bench': {}\n",
    "}"
   ]
  },
  {
   "cell_type": "code",
   "execution_count": 15,
   "metadata": {
    "id": "w3a7geGtLjhr"
   },
   "outputs": [],
   "source": [
    "def calculate_league_starter_stats(league_wide_statistics):\n",
    "    # sum the starter fppg for the roster                           # for every team in the league\n",
    "    sum_of_starter_ppg_per_team = [sum([row['FPPG'] for i,row in team.get_starters().iterrows()]) for team in league]\n",
    "    league_wide_statistics['average_starter_ppg'] = np.average(sum_of_starter_ppg_per_team)\n",
    "    league_wide_statistics['median_starter_ppg'] = np.median(sum_of_starter_ppg_per_team)\n",
    "\n",
    "    for position in POSITIONS:\n",
    "        starters = [np.array(team.get_position_starters(position)['FPPG']) for team in league]\n",
    "        league_wide_statistics['average_starters'][position.name] = [np.nanmean(k) for k in zip(*starters)]\n",
    "        league_wide_statistics['median_starters'][position.name] = [np.nanmedian(k) for k in zip(*starters)]"
   ]
  },
  {
   "cell_type": "code",
   "execution_count": 16,
   "metadata": {},
   "outputs": [],
   "source": [
    "# for every position considered\n",
    "def calculate_league_bench_stats(league_wide_statistics):\n",
    "    for position in filter(lambda position: position!=POSITIONS.QB, POSITIONS):\n",
    "        # for the position, get a list of n-deep backup ppg for every team\n",
    "        bench_players = [np.array(team.get_position_backups(position, count=position.bench_count())['FPPG']) for team in league]\n",
    "        # take element-wise averages across depth: [ average best backup, average second backup, ...]\n",
    "        league_wide_statistics['average_best_bench'][position.name] = [np.nanmean(k) for k in zip(*bench_players)]\n",
    "        league_wide_statistics['median_best_bench'][position.name] = [np.nanmedian(k) for k in zip(*bench_players)]"
   ]
  },
  {
   "cell_type": "code",
   "execution_count": 17,
   "metadata": {
    "scrolled": true
   },
   "outputs": [],
   "source": [
    "calculate_league_starter_stats(league_wide_statistics)\n",
    "calculate_league_bench_stats(league_wide_statistics)"
   ]
  },
  {
   "cell_type": "code",
   "execution_count": 18,
   "metadata": {
    "scrolled": true
   },
   "outputs": [
    {
     "data": {
      "text/plain": [
       "{'average_starter_ppg': 103.95142857142856,\n",
       " 'median_starter_ppg': 104.58500000000001,\n",
       " 'average_starters': {'QB': [20.41357142857143],\n",
       "  'WR': [12.552857142857144, 11.024285714285712],\n",
       "  'RB': [12.326428571428574],\n",
       "  'TE': [10.139999999999999],\n",
       "  'FLEX': [11.04857142857143, 10.172857142857142],\n",
       "  'SFLEX': [16.27285714285714]},\n",
       " 'median_starters': {'QB': [20.200000000000003],\n",
       "  'WR': [12.36, 11.3],\n",
       "  'RB': [12.405],\n",
       "  'TE': [10.52],\n",
       "  'FLEX': [10.55, 10.105],\n",
       "  'SFLEX': [16.83]},\n",
       " 'average_best_bench': {'WR': [8.492857142857142, 7.115],\n",
       "  'RB': [7.040714285714287, 6.115384615384615],\n",
       "  'TE': [7.116428571428572],\n",
       "  'FLEX': [8.960714285714285, 8.290714285714285, 7.437142857142857],\n",
       "  'SFLEX': [11.905]},\n",
       " 'median_best_bench': {'WR': [8.3, 6.71],\n",
       "  'RB': [6.385, 6.04],\n",
       "  'TE': [6.925000000000001],\n",
       "  'FLEX': [8.585, 8.005, 6.98],\n",
       "  'SFLEX': [10.475000000000001]}}"
      ]
     },
     "execution_count": 18,
     "metadata": {},
     "output_type": "execute_result"
    }
   ],
   "source": [
    "league_wide_statistics"
   ]
  },
  {
   "cell_type": "code",
   "execution_count": null,
   "metadata": {},
   "outputs": [],
   "source": [
    "{'average_starter_ppg': 103.98,\n",
    " 'median_starter_ppg': 104.58500000000001,\n",
    " 'average_starters': {'QB': [20.41357142857143],\n",
    "  'WR': [12.552857142857144, 11.024285714285712],\n",
    "  'RB': [12.355],\n",
    "  'TE': [10.139999999999999],\n",
    "  'FLEX': [11.04857142857143, 10.172857142857142],\n",
    "  'SFLEX': [16.27285714285714]},\n",
    " 'median_starters': {'QB': [20.200000000000003],\n",
    "  'WR': [12.36, 11.3],\n",
    "  'RB': [12.605],\n",
    "  'TE': [10.52],\n",
    "  'FLEX': [10.55, 10.105],\n",
    "  'SFLEX': [16.83]},\n",
    " 'average_best_bench': {'WR': [8.492857142857142, 7.115],\n",
    "  'RB': [7.040714285714287, 6.115384615384615],\n",
    "  'TE': [7.137142857142857],\n",
    "  'FLEX': [8.960714285714285, 8.290714285714285, 7.394285714285714],\n",
    "  'SFLEX': [11.905]},\n",
    " 'median_best_bench': {'WR': [8.3, 6.71],\n",
    "  'RB': [6.385, 6.04],\n",
    "  'TE': [7.07],\n",
    "  'FLEX': [8.585, 8.005, 6.945],\n",
    "  'SFLEX': [10.475000000000001]}}\n"
   ]
  },
  {
   "cell_type": "markdown",
   "metadata": {
    "id": "DYL-PKWqHRi2"
   },
   "source": [
    "## Calculate team scores"
   ]
  },
  {
   "cell_type": "code",
   "execution_count": 19,
   "metadata": {},
   "outputs": [],
   "source": [
    "def normalize_score(score):\n",
    "    return (score * 100)\n",
    "\n",
    "# 1, 0.5, 0.25 ...\n",
    "def get_bench_weights(count):\n",
    "    return [1 / pow(2,i) for i in range(count)]"
   ]
  },
  {
   "cell_type": "code",
   "execution_count": 20,
   "metadata": {
    "colab": {
     "base_uri": "https://localhost:8080/"
    },
    "id": "Gr0Qd8gpXLlc",
    "outputId": "50569912-44a8-48ca-f6bd-309f070d549f"
   },
   "outputs": [],
   "source": [
    "def calculate_overall_starter_score_for_team(team):\n",
    "    # sum teams starter ppg             # get the percentage of the league average and normalize\n",
    "    starter_score_vs_avg = team.get_starters()['FPPG'].sum() / league_wide_statistics['average_starter_ppg']\n",
    "    starter_score_vs_avg = normalize_score(starter_score_vs_avg)\n",
    "    starter_score_vs_median = team.get_starters()['FPPG'].sum() / league_wide_statistics['median_starter_ppg']\n",
    "    starter_score_vs_median = normalize_score(starter_score_vs_median)\n",
    "    team.scores['starter_score'] = np.average([starter_score_vs_avg, starter_score_vs_median])\n",
    "\n",
    "def calculate_overall_starter_scores_for_league(league):\n",
    "    for team in league:\n",
    "        calculate_overall_starter_score_for_team(team)"
   ]
  },
  {
   "cell_type": "code",
   "execution_count": 22,
   "metadata": {},
   "outputs": [],
   "source": [
    "# (team: Team, pos: 'Position', starter: boolean, number_of_players_to_score: int)\n",
    "def calculate_score_for_position(team: Team, position, starter: bool, number_of_players_to_score):\n",
    "    if starter:\n",
    "        players = team.get_position_starters(position, count=number_of_players_to_score)['FPPG']\n",
    "        avgs = league_wide_statistics['average_starters'][position.name]\n",
    "        medians = league_wide_statistics['median_starters'][position.name]\n",
    "    else:\n",
    "        players = team.get_position_backups(position, count=number_of_players_to_score)['FPPG']\n",
    "        avgs = league_wide_statistics['average_best_bench'][position.name]\n",
    "        medians = league_wide_statistics['median_best_bench'][position.name]\n",
    "\n",
    "    # will be a list of ith backup / ith league average backup\n",
    "    # [ best_backup / league_best_backup, second_backup / league_second_backup, ...]\n",
    "    vs_avg = np.array(players) / np.array(avgs)\n",
    "    vs_avg = normalize_score(vs_avg)\n",
    "    vs_median = np.array(players) / np.array(medians)\n",
    "    vs_median = normalize_score(vs_median)\n",
    "\n",
    "    # take an element-wise mean of vs_avg and medians\n",
    "    # [ mean(best_backup / league_best_avg, best_backup / league_best_median), ...]\n",
    "    combined = [np.mean([avg, median]) for avg, median in zip(vs_avg, vs_median)]\n",
    "    \n",
    "    # take the weighted average of the scores and insert single numeric score\n",
    "    if starter:\n",
    "        team.scores['starters'][position.name] = np.average(combined, weights=get_bench_weights(number_of_players_to_score))\n",
    "    else:\n",
    "        team.scores['bench'][position.name] = np.average(combined, weights=get_bench_weights(number_of_players_to_score))\n",
    "\n",
    "def calculate_bench_score_for_team(team):\n",
    "    for position in POSITIONS:\n",
    "        if position != POSITIONS.QB: # hacky, but temporary fix for there being no backup \"QB\" (sflex instead)\n",
    "            calculate_score_for_position(team, position, False, position.bench_count())\n",
    "\n",
    "def calculate_starter_score_for_team(team):\n",
    "    for position in POSITIONS:\n",
    "        calculate_score_for_position(team, position, True, position.starter_count())\n",
    "\n",
    "def calculate_scores_for_league(league: [Team]):\n",
    "    for team in league:\n",
    "        calculate_bench_score_for_team(team)\n",
    "        calculate_starter_score_for_team(team)"
   ]
  },
  {
   "cell_type": "code",
   "execution_count": 23,
   "metadata": {},
   "outputs": [],
   "source": [
    "calculate_overall_starter_scores_for_league(league)\n",
    "calculate_scores_for_league(league)"
   ]
  },
  {
   "cell_type": "code",
   "execution_count": 24,
   "metadata": {},
   "outputs": [
    {
     "data": {
      "text/plain": [
       "{'starter_score': 110.84017078028384,\n",
       " 'starters': {'QB': 103.51505935085618,\n",
       "  'WR': 102.19207485961654,\n",
       "  'RB': 122.59827992855804,\n",
       "  'TE': 109.62082180274635,\n",
       "  'FLEX': 115.17369011164072,\n",
       "  'SFLEX': 117.72711702377538},\n",
       " 'bench': {'WR': 143.8344633543636,\n",
       "  'RB': 164.44562602421058,\n",
       "  'TE': 75.0775414158741,\n",
       "  'FLEX': 137.21346092831624,\n",
       "  'SFLEX': 169.4137458539612}}"
      ]
     },
     "execution_count": 24,
     "metadata": {},
     "output_type": "execute_result"
    }
   ],
   "source": [
    "league[8].scores"
   ]
  },
  {
   "cell_type": "markdown",
   "metadata": {},
   "source": [
    "# what makes a contender?\n",
    "# Starters, and their projected points\n",
    "\n",
    "# all scores are on a scale of 100\n",
    "  # starter score - weight 50%\n",
    "    # percentage above and below the league median ppg, normalized around 50\n",
    "\n",
    "  # Flex depth score - weight 25%\n",
    "    # top bench asset, percentage against league median best bench asset\n",
    "    # second bench asset, ...\n",
    "    # third bench asset, ...\n",
    "    # bench assets are combined into one depth score, with decreasing weights per rank\n",
    "      # 1st bench spot - 50%\n",
    "      # 2nd bench spot - 35%\n",
    "      # 3rd bench post - 15%\n",
    "\n",
    "  # RB depth score\n",
    "    # similar to flex depth, but two assets - rb only\n",
    "  # WR depth score\n",
    "    # similar to flex depth, but two assets - wr only\n",
    "  # TE depth score\n",
    "    # similar to flex depth, but one asset - te only\n",
    "\n",
    "  # sflex depth - weight 25%\n",
    "    # third superflex player, percentage against league median third superflex player\n",
    "\n",
    "# take combined / weighted scores into a final\n",
    "\n",
    "# consider adding overall position group scores too\n",
    "# weighted combination of 1st, 2nd, nth best QB\n",
    "\n",
    "# How to visualize a trade\n",
    "\n",
    "# create a copy of the team\n",
    "# insert newly aqured players\n",
    "# delete moved players\n",
    "# recalculate roster_starters\n",
    "# recalculate contender data\n",
    "# revisualize whatever"
   ]
  }
 ],
 "metadata": {
  "colab": {
   "provenance": []
  },
  "kernelspec": {
   "display_name": "Python 3 (ipykernel)",
   "language": "python",
   "name": "python3"
  },
  "language_info": {
   "codemirror_mode": {
    "name": "ipython",
    "version": 3
   },
   "file_extension": ".py",
   "mimetype": "text/x-python",
   "name": "python",
   "nbconvert_exporter": "python",
   "pygments_lexer": "ipython3",
   "version": "3.11.9"
  }
 },
 "nbformat": 4,
 "nbformat_minor": 4
}
