{
 "cells": [
  {
   "cell_type": "code",
   "execution_count": 46,
   "metadata": {
    "id": "sl12kwLEhFpt"
   },
   "outputs": [],
   "source": [
    "import matplotlib.pyplot as plt\n",
    "import pandas as pd\n",
    "import numpy as np\n",
    "import statistics\n",
    "from enum import Enum\n",
    "import importlib\n",
    "\n",
    "import plotly.express as px\n",
    "import plotly.graph_objects as go\n",
    "\n",
    "from customtypes import POSITIONS"
   ]
  },
  {
   "cell_type": "code",
   "execution_count": 39,
   "metadata": {
    "colab": {
     "base_uri": "https://localhost:8080/"
    },
    "id": "toJ6Xtyr7apm",
    "outputId": "06452cfa-888b-4593-8c5a-61f2c1bea8e9"
   },
   "outputs": [
    {
     "name": "stderr",
     "output_type": "stream",
     "text": [
      "Linking to keeptradecut.com's SF rankings...: 100%|██████████| 10/10 [00:05<00:00,  1.79page/s]\n"
     ]
    }
   ],
   "source": [
    "from dynastyrequests import *\n",
    "players_response = request_players()\n",
    "rosters_response = request_rosters()\n",
    "projections_response = request_projections()\n",
    "ktc_response = request_ktc()\n",
    "fantasy_calc_response = request_fantasy_calc()"
   ]
  },
  {
   "cell_type": "code",
   "execution_count": 40,
   "metadata": {
    "id": "eEDM92Ga0YAH"
   },
   "outputs": [],
   "source": [
    "players = get_players(players_response)\n",
    "rosters = get_rosters(rosters_response)\n",
    "projections = get_projections(projections_response)\n",
    "ktc = get_ktc_values(ktc_response)\n",
    "fantasy_calc = get_fantasy_calc_values(fantasy_calc_response)"
   ]
  },
  {
   "cell_type": "markdown",
   "metadata": {
    "id": "rd10azAuK4yO"
   },
   "source": [
    "## BUILD LEAGUE"
   ]
  },
  {
   "cell_type": "code",
   "execution_count": 56,
   "metadata": {
    "id": "r0Tmj_FIHdEV"
   },
   "outputs": [],
   "source": [
    "imported_module = importlib.import_module(\"teams\")\n",
    "importlib.reload(imported_module)\n",
    "from teams import *\n",
    "from teams import Team, build_league, set_team_starters\n",
    "league = build_league(rosters,players,projections,ktc,fantasy_calc)\n",
    "for team in league:\n",
    "   set_team_starters(team)"
   ]
  },
  {
   "cell_type": "markdown",
   "metadata": {
    "id": "rd10azAuK4yO"
   },
   "source": [
    "## Create median/average data"
   ]
  },
  {
   "cell_type": "code",
   "execution_count": 71,
   "metadata": {
    "id": "qw0dcYeIWtkD"
   },
   "outputs": [],
   "source": [
    "imported_module = importlib.import_module(\"leaguestats\")\n",
    "importlib.reload(imported_module)\n",
    "from leaguestats import *\n",
    "league_stats = LeagueStats()\n",
    "\n",
    "calculate_league_starter_stats(league, league_stats)\n",
    "calculate_league_bench_stats(league, league_stats)"
   ]
  },
  {
   "cell_type": "markdown",
   "metadata": {
    "id": "DYL-PKWqHRi2"
   },
   "source": [
    "## Calculate team scores"
   ]
  },
  {
   "cell_type": "code",
   "execution_count": 13,
   "metadata": {},
   "outputs": [],
   "source": [
    "def normalize_score(score):\n",
    "    return (score * 100)\n",
    "\n",
    "# 1, 0.5, 0.25 ...\n",
    "def get_bench_weights(count):\n",
    "    return [1 / pow(2,i) for i in range(count)]"
   ]
  },
  {
   "cell_type": "code",
   "execution_count": 28,
   "metadata": {},
   "outputs": [],
   "source": [
    "for team in league:\n",
    "    calculate_overall_starter_score_for_team(team)"
   ]
  },
  {
   "cell_type": "code",
   "execution_count": 15,
   "metadata": {},
   "outputs": [],
   "source": [
    "def calculate_bench_score_for_team(team):\n",
    "    for position in POSITIONS:\n",
    "        if position != POSITIONS.QB: # hacky, but temporary fix for there being no backup \"QB\" (sflex instead)\n",
    "            calculate_score_for_position(team, position, False, position.bench_count())\n",
    "\n",
    "def calculate_starter_score_for_team(team):\n",
    "    for position in POSITIONS:\n",
    "        calculate_score_for_position(team, position, True, position.starter_count())"
   ]
  },
  {
   "cell_type": "code",
   "execution_count": 16,
   "metadata": {},
   "outputs": [],
   "source": [
    "for team in league:\n",
    "    calculate_bench_score_for_team(team)\n",
    "    calculate_starter_score_for_team(team)"
   ]
  },
  {
   "cell_type": "code",
   "execution_count": 17,
   "metadata": {},
   "outputs": [
    {
     "data": {
      "text/plain": [
       "{'starter_score': 110.84017078028384,\n",
       " 'starters': {'QB': 103.51505935085618,\n",
       "  'WR': 102.19207485961654,\n",
       "  'RB': 122.59827992855804,\n",
       "  'TE': 109.62082180274635,\n",
       "  'FLEX': 115.17369011164072,\n",
       "  'SFLEX': 117.72711702377538},\n",
       " 'bench': {'WR': 143.8344633543636,\n",
       "  'RB': 164.44562602421058,\n",
       "  'TE': 75.0775414158741,\n",
       "  'FLEX': 137.58200145422808,\n",
       "  'SFLEX': 169.4137458539612}}"
      ]
     },
     "execution_count": 17,
     "metadata": {},
     "output_type": "execute_result"
    }
   ],
   "source": [
    "league[8].scores"
   ]
  },
  {
   "cell_type": "markdown",
   "metadata": {},
   "source": [
    "# what makes a contender?\n",
    "# Starters, and their projected points\n",
    "\n",
    "# all scores are on a scale of 100\n",
    "  # starter score - weight 50%\n",
    "    # percentage above and below the league median ppg, normalized around 50\n",
    "\n",
    "  # Flex depth score - weight 25%\n",
    "    # top bench asset, percentage against league median best bench asset\n",
    "    # second bench asset, ...\n",
    "    # third bench asset, ...\n",
    "    # bench assets are combined into one depth score, with decreasing weights per rank\n",
    "      # 1st bench spot - 50%\n",
    "      # 2nd bench spot - 35%\n",
    "      # 3rd bench post - 15%\n",
    "\n",
    "  # RB depth score\n",
    "    # similar to flex depth, but two assets - rb only\n",
    "  # WR depth score\n",
    "    # similar to flex depth, but two assets - wr only\n",
    "  # TE depth score\n",
    "    # similar to flex depth, but one asset - te only\n",
    "\n",
    "  # sflex depth - weight 25%\n",
    "    # third superflex player, percentage against league median third superflex player\n",
    "\n",
    "# take combined / weighted scores into a final\n",
    "\n",
    "# consider adding overall position group scores too\n",
    "# weighted combination of 1st, 2nd, nth best QB\n",
    "\n",
    "\n",
    "# coming up with weights. use historical injury data to come up with percentages for how often players of a given percentage get injured\n",
    "\n",
    "# How to visualize a trade\n",
    "\n",
    "# create a copy of the team\n",
    "# insert newly aqured players\n",
    "# delete moved players\n",
    "# recalculate roster_starters\n",
    "# recalculate contender data\n",
    "# revisualize whatever"
   ]
  }
 ],
 "metadata": {
  "colab": {
   "provenance": []
  },
  "kernelspec": {
   "display_name": "Python 3 (ipykernel)",
   "language": "python",
   "name": "python3"
  },
  "language_info": {
   "codemirror_mode": {
    "name": "ipython",
    "version": 3
   },
   "file_extension": ".py",
   "mimetype": "text/x-python",
   "name": "python",
   "nbconvert_exporter": "python",
   "pygments_lexer": "ipython3",
   "version": "3.11.9"
  }
 },
 "nbformat": 4,
 "nbformat_minor": 4
}
