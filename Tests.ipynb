{
 "cells": [
  {
   "cell_type": "code",
   "execution_count": 113,
   "metadata": {},
   "outputs": [],
   "source": [
    "\n",
    "import pandas as pd\n",
    "import importlib\n",
    "import math"
   ]
  },
  {
   "cell_type": "code",
   "execution_count": 3,
   "metadata": {},
   "outputs": [],
   "source": [
    "## TODO: write tests for roster scores"
   ]
  },
  {
   "cell_type": "code",
   "execution_count": 32,
   "metadata": {},
   "outputs": [],
   "source": [
    "SAMPLE_PLAYERS = pd.DataFrame({\n",
    "    'Player': ['antonio baldwin', 'corey dillon', 'elmer fudd', 'gregory halas', 'isaac jake','kyle lewis','mike north'],\n",
    "    'player_id': [1,2,3,4,5,6,7],\n",
    "    'position': ['QB','QB','QB','RB','RB','RB','RB'],\n",
    "    'age' : [28,29,30,31,32,33,34]\n",
    "    })"
   ]
  },
  {
   "cell_type": "code",
   "execution_count": 5,
   "metadata": {},
   "outputs": [],
   "source": [
    "SAMPLE_ROSTER = pd.DataFrame({\n",
    "    'owner': ['test_owner'],\n",
    "    'players': [[1,2,3,4,5,6,7]]\n",
    "    })"
   ]
  },
  {
   "cell_type": "code",
   "execution_count": 6,
   "metadata": {},
   "outputs": [],
   "source": [
    "SAMPLE_PROJECTIONS = pd.DataFrame({\n",
    "    'Player': ['antonio baldwin', 'corey dillon', 'elmer fudd', 'gregory halas', 'isaac jake','kyle lewis','mike north'],\n",
    "    'FPTS': [350, 375, 400, 200, 225, 250, 275]\n",
    "})"
   ]
  },
  {
   "cell_type": "code",
   "execution_count": 7,
   "metadata": {},
   "outputs": [],
   "source": [
    "SAMPLE_KTC = pd.DataFrame({\n",
    "    'Player': ['antonio baldwin', 'corey dillon', 'elmer fudd', 'gregory halas', 'isaac jake','kyle lewis','mike north'],\n",
    "    'KTC_Value': [1000, 2000, 3000, 4000, 5000, 6000, 7000]\n",
    "})"
   ]
  },
  {
   "cell_type": "code",
   "execution_count": 8,
   "metadata": {},
   "outputs": [],
   "source": [
    "SAMPLE_F_CALC = pd.DataFrame({\n",
    "    'Player': ['antonio baldwin', 'corey dillon', 'elmer fudd', 'gregory halas', 'isaac jake','kyle lewis','mike north'],\n",
    "    'FantasyCalc_Value': [1500, 2500, 3500, 4500, 5500, 6500, 7500],\n",
    "    'redraftValue': [3000, 6000, 500, 4500, 5500, 6500, 7500],\n",
    "    'redraftDynastyValueDifference': [-1500, 3500, -3000, 0, 0, 0, 0]\n",
    "})"
   ]
  },
  {
   "cell_type": "code",
   "execution_count": 214,
   "metadata": {},
   "outputs": [],
   "source": [
    "imported_module = importlib.import_module(\"teams\")\n",
    "importlib.reload(imported_module)\n",
    "from teams import *\n",
    "\n",
    "league = build_league(SAMPLE_ROSTER,SAMPLE_PLAYERS,SAMPLE_PROJECTIONS,SAMPLE_KTC,SAMPLE_F_CALC)\n",
    "for team in league:\n",
    "   set_team_starters(team)"
   ]
  },
  {
   "cell_type": "code",
   "execution_count": 216,
   "metadata": {},
   "outputs": [],
   "source": [
    "qbs = team.get_position_starters(POSITIONS.QB)\n",
    "assert qbs.iloc[0]['Player'] == 'elmer fudd', \"Elmer Fudd is the highest projected QB\"\n",
    "backup_qbs = team.get_position_backups(POSITIONS.QB)\n",
    "assert backup_qbs.iloc[0]['Player'] == 'antonio baldwin', \"Antonio Baldwin is the lowest projected QB\""
   ]
  },
  {
   "cell_type": "code",
   "execution_count": 217,
   "metadata": {},
   "outputs": [],
   "source": [
    "new_team = copy_team(team)\n",
    "assert team.roster_starters['Starter'].value_counts()[True] == 5\n",
    "assert new_team.roster_starters['Starter'].value_counts()[False] == 7"
   ]
  },
  {
   "cell_type": "code",
   "execution_count": 218,
   "metadata": {},
   "outputs": [],
   "source": [
    "imported_module = importlib.import_module(\"leaguestats\")\n",
    "importlib.reload(imported_module)\n",
    "from leaguestats import *"
   ]
  },
  {
   "cell_type": "code",
   "execution_count": 219,
   "metadata": {},
   "outputs": [],
   "source": [
    "def team_factory(initial, offset=0):\n",
    "    team = Team(f'{offset}')\n",
    "    if offset:\n",
    "        team.roster_starters = pd.DataFrame({\n",
    "            'position': ['QB','WR','WR','RB','TE','WR','RB','QB','QB','WR','WR','RB','TE'],\n",
    "            'FPPG': [initial - i * offset for i in range(13)],\n",
    "            'Starter': False\n",
    "        })\n",
    "        set_team_starters(team)\n",
    "    return team"
   ]
  },
  {
   "cell_type": "code",
   "execution_count": 220,
   "metadata": {},
   "outputs": [],
   "source": [
    "team1 = team_factory(200, 5)\n",
    "team2 = team_factory(200, 10)\n",
    "team3 = team_factory(200, 20)\n",
    "testLeague = [team1, team2, team3]\n",
    "\n",
    "testStats = LeagueStats()\n",
    "calculate_league_starter_stats(testLeague, testStats)\n",
    "calculate_league_bench_stats(testLeague, testStats)\n",
    "\n",
    "league_wide_statistics = {\n",
    "    'average_starter_ppg': 0,\n",
    "    'median_starter_ppg': 0,\n",
    "    'average_starters': {},\n",
    "    'median_starters': {},\n",
    "    'average_best_bench': {},\n",
    "    'median_best_bench': {}\n",
    "}\n",
    "calculate_league_starter_stats_depr(testLeague, league_wide_statistics)\n",
    "calculate_league_bench_stats_depr(testLeague, league_wide_statistics)"
   ]
  },
  {
   "cell_type": "code",
   "execution_count": 221,
   "metadata": {},
   "outputs": [],
   "source": [
    "assert testStats.starter_ppg(average=True) == (team1.roster_starters.query('Starter')['FPPG'].sum() + team2.roster_starters.query('Starter')['FPPG'].sum() + team3.roster_starters.query('Starter')['FPPG'].sum()) / 3.0\n",
    "\n",
    "assert testStats.position_ppg(POSITIONS.QB, starter=True, average=True) == [200.0]\n",
    "start_wr_ppg = testStats.position_ppg(POSITIONS.WR, starter=True, average=True)\n",
    "assert math.isclose(start_wr_ppg[0], (195 + 190 + 180) / 3.0, abs_tol=0.1)\n",
    "assert math.isclose(start_wr_ppg[1], (190 + 180 + 160) / 3.0, abs_tol=0.1)\n",
    "\n",
    "assert math.isclose(testStats.position_ppg(POSITIONS.SFLEX, bench=True, average=True)[0], (160 + 120 + 40) / 3.0, abs_tol=0.1)\n",
    "bench_flex_ppg = testStats.position_ppg(POSITIONS.FLEX, bench=True, average=True)\n",
    "assert math.isclose(bench_flex_ppg[0], (155 + 110 + 20) / 3.0, abs_tol=0.1)\n",
    "assert math.isclose(bench_flex_ppg[1], (150 + 100 + 0) / 3.0, abs_tol=0.1)\n",
    "assert math.isclose(bench_flex_ppg[2], (145 + 90 - 20) / 3.0, abs_tol=0.1)"
   ]
  },
  {
   "cell_type": "code",
   "execution_count": 245,
   "metadata": {},
   "outputs": [],
   "source": [
    "simple_start_qb_fppg = 100\n",
    "simple_start_wr_fppg = 80\n",
    "simple_team = Team('simple')\n",
    "simple_team.roster_starters = pd.DataFrame({\n",
    "            'position': ['QB','WR','QB','WR','WR'],\n",
    "            'FPPG': [simple_start_qb_fppg, simple_start_wr_fppg, 60, 40, 20],\n",
    "            'Starter': [True, True, False, False, False]\n",
    "        })\n",
    "simple_team.starting_roster['QB'] = simple_team.roster_starters.loc[0:0].copy()\n",
    "simple_team.starting_roster['WR'] = simple_team.roster_starters.loc[1:1].copy()\n",
    "\n",
    "\n",
    "simple_statistics = {\n",
    "    'average_starter_ppg': 180,\n",
    "    'median_starter_ppg': 200,\n",
    "    'average_starters' : {\n",
    "        'QB': [simple_start_qb_fppg * 2],\n",
    "        'WR': [100]\n",
    "    },\n",
    "    'median_starters' : {\n",
    "        'QB': [simple_start_qb_fppg * 2],\n",
    "        'WR': [200]\n",
    "    },\n",
    "    'average_best_bench' : {\n",
    "        'QB': [100],\n",
    "        'WR': [100, 100]\n",
    "    },\n",
    "    'median_best_bench' : {\n",
    "        'QB': [200],\n",
    "        'WR': [100, 100]\n",
    "    }\n",
    "}\n",
    "calculate_overall_starter_score_for_team(simple_team, simple_statistics)\n",
    "calculate_score_for_position(simple_team, simple_statistics, POSITIONS.QB, True, 1)\n",
    "calculate_score_for_position(simple_team, simple_statistics, POSITIONS.WR, True, 1)\n",
    "calculate_score_for_position(simple_team, simple_statistics, POSITIONS.QB, False, 1)\n",
    "calculate_score_for_position(simple_team, simple_statistics, POSITIONS.WR, False, 2)"
   ]
  },
  {
   "cell_type": "code",
   "execution_count": 249,
   "metadata": {},
   "outputs": [],
   "source": [
    "assert math.isclose(simple_team.combined_starter_score(), 95)\n",
    "\n",
    "assert math.isclose(simple_team.position_starter_score(POSITIONS.QB), 50)\n",
    "assert math.isclose(simple_team.position_starter_score(POSITIONS.WR), 60)\n",
    "assert math.isclose(simple_team.position_starter_score(POSITIONS.WR), 60)\n",
    "\n",
    "assert math.isclose(simple_team.position_bench_score(POSITIONS.QB), 45)\n",
    "assert math.isclose(simple_team.position_bench_score(POSITIONS.WR), 33 + 1/3)"
   ]
  }
 ],
 "metadata": {
  "kernelspec": {
   "display_name": "Python 3",
   "language": "python",
   "name": "python3"
  },
  "language_info": {
   "codemirror_mode": {
    "name": "ipython",
    "version": 3
   },
   "file_extension": ".py",
   "mimetype": "text/x-python",
   "name": "python",
   "nbconvert_exporter": "python",
   "pygments_lexer": "ipython3",
   "version": "3.11.9"
  }
 },
 "nbformat": 4,
 "nbformat_minor": 2
}
