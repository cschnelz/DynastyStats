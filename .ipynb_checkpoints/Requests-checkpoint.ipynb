{
 "cells": [
  {
   "cell_type": "code",
   "execution_count": 14,
   "id": "56e52e7c-0e0a-4c7c-8ca1-bcdee07b926d",
   "metadata": {},
   "outputs": [],
   "source": [
    "import requests\n",
    "from bs4 import BeautifulSoup\n",
    "from tqdm import tqdm\n",
    "\n",
    "import pandas as pd"
   ]
  },
  {
   "cell_type": "code",
   "execution_count": 15,
   "id": "3d43528a-8df5-4711-bdab-b7556fa13038",
   "metadata": {},
   "outputs": [],
   "source": [
    "def request_players():\n",
    "  return requests.get(\"https://api.sleeper.app/v1/players/nfl\")"
   ]
  },
  {
   "cell_type": "code",
   "execution_count": 16,
   "id": "980e5a20-6663-41ce-9828-7bbf411e526a",
   "metadata": {},
   "outputs": [],
   "source": [
    "def get_players(players_response):\n",
    "  # convert to DF\n",
    "  players = pd.DataFrame.from_dict(players_response.json()).transpose()\n",
    "  # cut to columns cared about and normalize names\n",
    "  players_reduced = players[['position','age','player_id','full_name']]\n",
    "  players_reduced = players_reduced.rename(columns={'full_name':'Player'})\n",
    "  players_reduced['Player'] = players_reduced['Player'].str.lower()\n",
    "  return players_reduced"
   ]
  },
  {
   "cell_type": "code",
   "execution_count": null,
   "id": "4fcfaf1e-08e3-431e-8086-08591bd70ec4",
   "metadata": {},
   "outputs": [],
   "source": [
    "### rosters_response: ['taxi', 'starters', 'settings', 'roster_id', 'reserve', 'players','player_map', 'owner_id', 'metadata', 'league_id', 'keepers','co_owners']"
   ]
  },
  {
   "cell_type": "code",
   "execution_count": 17,
   "id": "a398d535-c47c-4937-bc23-516108481ad7",
   "metadata": {
    "jupyter": {
     "source_hidden": true
    }
   },
   "outputs": [],
   "source": [
    "def request_rosters():\n",
    "  return requests.get('https://api.sleeper.app/v1/league/1089971282461954048/rosters')"
   ]
  },
  {
   "cell_type": "code",
   "execution_count": 18,
   "id": "938e0a3d-0fad-48ce-86b9-14dd62c739c6",
   "metadata": {
    "jupyter": {
     "source_hidden": true
    }
   },
   "outputs": [],
   "source": [
    "def get_rosters(rosters_response):\n",
    "  rosters = pd.DataFrame.from_dict(rosters_response.json())\n",
    "\n",
    "  # add username to roster\n",
    "  def get_username(owner_id):\n",
    "    username = requests.get(f'https://api.sleeper.app/v1/user/{owner_id}')\n",
    "    return username.json()['username']\n",
    "\n",
    "  rosters['owner'] = rosters['owner_id'].apply(get_username)\n",
    "  return rosters"
   ]
  },
  {
   "cell_type": "code",
   "execution_count": null,
   "id": "88c36207-4dc7-4b3f-9547-fafcff9da5dd",
   "metadata": {},
   "outputs": [],
   "source": [
    "### projections_response: ['Player', 'REC', 'YDS', 'TDS', 'ATT', 'YDS', 'TDS', 'FL', 'FPTS']"
   ]
  },
  {
   "cell_type": "code",
   "execution_count": 19,
   "id": "9aeebcad-be28-4e74-b949-11f225dfd6a7",
   "metadata": {
    "jupyter": {
     "source_hidden": true
    }
   },
   "outputs": [],
   "source": [
    "def request_projections():\n",
    "  projections_response = dict()\n",
    "  for pos in ['qb','wr','rb','te']:\n",
    "    url = f'https://www.fantasypros.com/nfl/projections/{pos}.php?week=draft&scoring=HALF&week=draft'\n",
    "    html = pd.read_html(url, header=0)\n",
    "    projections_response[pos] = html[0]\n",
    "  return projections_response"
   ]
  },
  {
   "cell_type": "code",
   "execution_count": 20,
   "id": "c53839b7-3808-4bf0-8ea7-b63c82928f16",
   "metadata": {
    "jupyter": {
     "source_hidden": true
    }
   },
   "outputs": [],
   "source": [
    "def get_projections(projections_reponse):\n",
    "  def clean_player_name(name):\n",
    "    # names come in with suffix <TEAM>, remove it\n",
    "    clean = name.split(' ')\n",
    "    clean = clean[0:-1]\n",
    "    clean = ' '.join(clean)\n",
    "    # remove suffixes\n",
    "    for suffix in suffixes:\n",
    "      clean = clean.removesuffix(suffix)\n",
    "    return clean.lower()\n",
    "\n",
    "  projections_full = pd.DataFrame()\n",
    "  for pos in ['qb','wr','rb','te']:\n",
    "    projections = projections_reponse[pos]\n",
    "    # reset index (data comes in with headers on row 0)\n",
    "    projections.columns = projections.iloc[0]\n",
    "    projections = projections.drop(projections.index[0])\n",
    "    # calculate qb increased scoring\n",
    "    projections['FPTS'] = projections['FPTS'].astype(float)\n",
    "    if pos == 'qb':\n",
    "      projections.columns = ['Player', 'ATT', 'CMP', 'P_YDS', 'TDS', 'INTS', 'ATT', 'R_YDS', 'TDS', 'FL', 'FPTS']\n",
    "      projections['FPTS'] = (projections['FPTS'] + projections['P_YDS'].astype(float) * 0.0125).round(2)\n",
    "    # calculate te premium\n",
    "    if (pos == 'te'):\n",
    "      projections['FPTS'] = projections['FPTS'] + (projections['REC'].astype(float) / 2)\n",
    "    # cut to columns cared about and normalize names\n",
    "    projections = projections[['Player','FPTS']]\n",
    "    projections['Player'] = projections['Player'].apply(clean_player_name)\n",
    "    projections_full = pd.concat([projections_full,projections])\n",
    "  return projections_full"
   ]
  },
  {
   "cell_type": "code",
   "execution_count": null,
   "id": "82bcb0a1-d00e-41a5-81c6-f625ec7a5dab",
   "metadata": {},
   "outputs": [],
   "source": [
    "### ktc_response: ['Player Name', 'Position Rank', 'Position', 'Team', 'Value', 'Age','Rookie']"
   ]
  },
  {
   "cell_type": "code",
   "execution_count": 21,
   "id": "6310d149-091f-4646-8ec1-49c0133471c5",
   "metadata": {
    "jupyter": {
     "source_hidden": true
    }
   },
   "outputs": [],
   "source": [
    "def request_ktc():\n",
    "    # universal vars\n",
    "    URL = \"https://keeptradecut.com/dynasty-rankings?page={0}&filters=QB|WR|RB|TE|RDP&format=0\"\n",
    "    all_elements = []\n",
    "    players = []\n",
    "\n",
    "    # find all elements with class \"onePlayer\"\n",
    "    for page in tqdm(range(10), desc=\"Linking to keeptradecut.com's SF rankings...\",unit=\"page\"):\n",
    "        page = requests.get(URL.format(page))\n",
    "        soup = BeautifulSoup(page.content, \"html.parser\")\n",
    "        player_elements = soup.find_all(class_=\"onePlayer\")\n",
    "        for player_element in player_elements:\n",
    "            all_elements.append(player_element)\n",
    "\n",
    "    # player information\n",
    "    for player_element in all_elements:\n",
    "\n",
    "        # find elements within the player container\n",
    "        player_name_element = player_element.find(class_=\"player-name\")\n",
    "        player_position_element = player_element.find(class_=\"position\")\n",
    "        player_value_element = player_element.find(class_=\"value\")\n",
    "        player_age_element = player_element.find(class_=\"position hidden-xs\")\n",
    "\n",
    "        # extract player information\n",
    "        player_name = player_name_element.get_text(strip=True)\n",
    "        team_suffix = (player_name[-3:] if player_name[-3:] == 'RFA' else player_name[-4:] if player_name[-4] == 'R' else player_name[-2:] if player_name[-2:] == 'FA' else player_name[-3:] if player_name[-3:].isupper() else \"\")\n",
    "\n",
    "        # remove the team suffix\n",
    "        player_name = player_name.replace(team_suffix, \"\").strip()\n",
    "        player_position_rank = player_position_element.get_text(strip=True)\n",
    "        player_value = player_value_element.get_text(strip=True)\n",
    "        player_value = int(player_value)\n",
    "        player_position = player_position_rank[:2]\n",
    "\n",
    "        # handle NoneType for player_age_element\n",
    "        if player_age_element:\n",
    "            player_age_text = player_age_element.get_text(strip=True)\n",
    "            player_age = float(player_age_text[:4]) if player_age_text else 0\n",
    "        else:\n",
    "            player_age = 0\n",
    "\n",
    "        # split team and rookie\n",
    "        if team_suffix[0] == 'R':\n",
    "            player_team = team_suffix[1:]\n",
    "            player_rookie = \"Yes\"\n",
    "        else:\n",
    "            player_team = team_suffix\n",
    "            player_rookie = \"No\"\n",
    "\n",
    "        if player_position == \"PI\":\n",
    "            pick_info = {\n",
    "                \"Player Name\": player_name,\n",
    "                \"Position Rank\": None,\n",
    "                \"Position\": player_position,\n",
    "                \"Team\": None,\n",
    "                \"Value\": player_value,\n",
    "                \"Age\": None,\n",
    "                \"Rookie\": None\n",
    "            }\n",
    "            players.append(pick_info)\n",
    "\n",
    "        else:\n",
    "            player_info = {\n",
    "                \"Player Name\": player_name,\n",
    "                \"Position Rank\": player_position_rank,\n",
    "                \"Position\": player_position,\n",
    "                \"Team\": player_team,\n",
    "                \"Value\": player_value,\n",
    "                \"Age\": player_age,\n",
    "                \"Rookie\": player_rookie\n",
    "            }\n",
    "            players.append(player_info)\n",
    "\n",
    "    return players"
   ]
  },
  {
   "cell_type": "code",
   "execution_count": 22,
   "id": "4bee58da-63c3-4f30-93d2-19bd9527fa4f",
   "metadata": {
    "jupyter": {
     "source_hidden": true
    }
   },
   "outputs": [],
   "source": [
    "def clean_name_ktc(name):\n",
    "  if name == \"Marquise Brown\":\n",
    "    name = \"Hollywood Brown\"\n",
    "  if name == \"Gabriel Davis\":\n",
    "    name = \"Gabe Davis\"\n",
    "  for suffix in suffixes:\n",
    "    name = name.removesuffix(suffix)\n",
    "  return name.lower()\n",
    "\n",
    "def get_ktc_values(ktc_response):\n",
    "  # convert ktc scrape to DF\n",
    "  ktc = pd.DataFrame(ktc_response)\n",
    "  # cut to columns cared about and normalize\n",
    "  ktc = ktc.rename(columns={'Player Name':'Player', 'Value': 'KTC_Value'})\n",
    "  ktc = ktc[['Player','KTC_Value']]\n",
    "  ktc['Player'] = ktc['Player'].apply(clean_name_ktc)\n",
    "  return ktc"
   ]
  },
  {
   "cell_type": "code",
   "execution_count": 27,
   "id": "bea83692-48ff-4812-af4d-8037cc02ce81",
   "metadata": {},
   "outputs": [],
   "source": [
    "### fantasy_calc_response: ['player', 'value', 'overallRank', 'positionRank', 'trend30Day',\n",
    "#       'redraftDynastyValueDifference', 'redraftDynastyValuePercDifference',\n",
    "#       'redraftValue', 'combinedValue', 'maybeMovingStandardDeviation',\n",
    "#       'maybeMovingStandardDeviationPerc',\n",
    "#       'maybeMovingStandardDeviationAdjusted', 'displayTrend', 'maybeOwner',\n",
    "#       'starter', 'maybeTier', 'maybeAdp', 'maybeTradeFrequency']"
   ]
  },
  {
   "cell_type": "code",
   "execution_count": 23,
   "id": "d051554c-8fe9-4f9c-ab6d-5bd35ff2081d",
   "metadata": {
    "jupyter": {
     "source_hidden": true
    }
   },
   "outputs": [],
   "source": [
    "def request_fantasy_calc():\n",
    "  return requests.get(\"https://api.fantasycalc.com/values/current?isDynasty=true&numQbs=2&numTeams=12&ppr=0.5\").json()"
   ]
  },
  {
   "cell_type": "code",
   "execution_count": 24,
   "id": "a08b8170-babe-4440-9080-346421845b14",
   "metadata": {
    "jupyter": {
     "source_hidden": true
    }
   },
   "outputs": [],
   "source": [
    "def get_fantasy_calc_values(fantasy_calc_response):\n",
    "  def extract_name(row):\n",
    "    row['player'] = row['player']['name']\n",
    "    return row\n",
    "\n",
    "  fantasy_calc = pd.DataFrame(fantasy_calc_response)\n",
    "  # player is a dictionary, replace it with just the name\n",
    "  fantasy_calc = fantasy_calc.apply(extract_name,axis=1)\n",
    "  # cut to columns cared about and normalize names\n",
    "  fantasy_calc['player'] = fantasy_calc['player'].apply(clean_name_ktc)\n",
    "  fantasy_calc = fantasy_calc.rename(columns={'player':'Player','value':'FantasyCalc_Value'})\n",
    "  fantasy_calc = fantasy_calc[['Player','FantasyCalc_Value','redraftValue','redraftDynastyValueDifference','redraftDynastyValuePercDifference']]\n",
    "  return fantasy_calc"
   ]
  }
 ],
 "metadata": {
  "kernelspec": {
   "display_name": "Python 3 (ipykernel)",
   "language": "python",
   "name": "python3"
  },
  "language_info": {
   "codemirror_mode": {
    "name": "ipython",
    "version": 3
   },
   "file_extension": ".py",
   "mimetype": "text/x-python",
   "name": "python",
   "nbconvert_exporter": "python",
   "pygments_lexer": "ipython3",
   "version": "3.11.9"
  }
 },
 "nbformat": 4,
 "nbformat_minor": 5
}
